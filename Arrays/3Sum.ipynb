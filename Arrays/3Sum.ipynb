{
 "cells": [
  {
   "cell_type": "markdown",
   "metadata": {},
   "source": [
    "# 3Sum\n",
    "\n",
    "https://leetcode.com/problems/3sum/\n",
    "\n",
    "- Time: O(n^2)\n",
    "- Space: O(n chose 3)\n"
   ]
  },
  {
   "cell_type": "code",
   "execution_count": null,
   "metadata": {},
   "outputs": [],
   "source": [
    "class Solution:\n",
    "    \n",
    "    # Time: O(n^2)\n",
    "    # Space: O(n chose 3) when all numbers are unique \n",
    "    # and all possible triplets are valid\n",
    "    def threeSum(self, nums: List[int]) -> List[List[int]]:\n",
    "        results = []\n",
    "        \n",
    "        # O(n log n)\n",
    "        nums.sort()\n",
    "        \n",
    "        # O(n^2)\n",
    "        for i in range(0, len(nums)-2):\n",
    "            \n",
    "            # Skip over duplicates\n",
    "            if i > 0 and nums[i-1] == nums[i]:\n",
    "                continue\n",
    "                \n",
    "            # Solve 2Sum with nums[i] \n",
    "            # as third member of the triplet\n",
    "            left, right = i+1, len(nums)-1\n",
    "            \n",
    "            while left < right:\n",
    "                current_sum = nums[i] + nums[left] + nums[right]\n",
    "                if current_sum > 0:\n",
    "                    right -= 1\n",
    "                elif current_sum < 0:\n",
    "                    left += 1\n",
    "                else:\n",
    "                    results.append([nums[i], nums[left], nums[right]])\n",
    "                    left += 1\n",
    "                    right -= 1\n",
    "                    while left < right and nums[left] == nums[left-1]:\n",
    "                        left += 1\n",
    "                    while left < right and nums[right] == nums[right+1]:\n",
    "                        right -= 1\n",
    "                    \n",
    "            \n",
    "        return results"
   ]
  }
 ],
 "metadata": {
  "kernelspec": {
   "display_name": "Python 3",
   "language": "python",
   "name": "python3"
  },
  "language_info": {
   "codemirror_mode": {
    "name": "ipython",
    "version": 3
   },
   "file_extension": ".py",
   "mimetype": "text/x-python",
   "name": "python",
   "nbconvert_exporter": "python",
   "pygments_lexer": "ipython3",
   "version": "3.5.2"
  }
 },
 "nbformat": 4,
 "nbformat_minor": 2
}
