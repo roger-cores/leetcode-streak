{
 "cells": [
  {
   "cell_type": "markdown",
   "metadata": {},
   "source": [
    "# Jump Game I\n",
    "\n",
    "https://leetcode.com/problems/jump-game/\n",
    "\n",
    "- Time: O(n)\n",
    "- Space: O(1) | On reusing input array\n",
    "- Space: O(n) | If input can't be edited\n",
    "\n",
    "Best case can be improved further by only considering zeroes"
   ]
  },
  {
   "cell_type": "code",
   "execution_count": null,
   "metadata": {},
   "outputs": [],
   "source": [
    "class Solution:\n",
    "    # Time: O(n)\n",
    "    # Space: O(1) | if array is reused for counts\n",
    "    # Space: O(n) | if original array can't be edited\n",
    "    \n",
    "    # Best case can be improved by only considering zeroes\n",
    "    def canJump(self, nums: List[int]) -> bool:\n",
    "        \n",
    "        # Corner cases\n",
    "        if not nums or len(nums) == 0:\n",
    "            return False\n",
    "        \n",
    "        if len(nums) == 1:\n",
    "            return True\n",
    "        \n",
    "        if nums[0] >= len(nums) - 1:\n",
    "            return True\n",
    "        \n",
    "        # Last Index is reachable trivially\n",
    "        nums[-1] = 1\n",
    "        \n",
    "        # From second last element to 0th\n",
    "        # Collects running counts of blocks \n",
    "        # that can reach last element from n-2 to 0\n",
    "        for i in range(len(nums)-2, -1, -1):\n",
    "            # If last element is reachable in one step\n",
    "            if i + nums[i] >= len(nums)-1:\n",
    "                # Set nums[i] to count at nums[i+1] + 1\n",
    "                nums[i] = nums[i+1] + 1\n",
    "            elif nums[i+1] - nums[i + nums[i] + 1] != 0:\n",
    "                nums[i] = nums[i+1] + 1\n",
    "            else:\n",
    "                # No reachable path through this element\n",
    "                # Do not increment count\n",
    "                nums[i] = nums[i+1]\n",
    "        \n",
    "        return nums[0] != nums[1]"
   ]
  }
 ],
 "metadata": {
  "kernelspec": {
   "display_name": "Python 3",
   "language": "python",
   "name": "python3"
  },
  "language_info": {
   "codemirror_mode": {
    "name": "ipython",
    "version": 3
   },
   "file_extension": ".py",
   "mimetype": "text/x-python",
   "name": "python",
   "nbconvert_exporter": "python",
   "pygments_lexer": "ipython3",
   "version": "3.5.2"
  }
 },
 "nbformat": 4,
 "nbformat_minor": 2
}
