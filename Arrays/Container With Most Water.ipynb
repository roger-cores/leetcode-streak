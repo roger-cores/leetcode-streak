{
 "cells": [
  {
   "cell_type": "markdown",
   "metadata": {},
   "source": [
    "# Container With Most Water\n",
    "\n",
    "https://leetcode.com/problems/container-with-most-water/\n",
    "\n",
    "- Time: O(n)\n",
    "- Space: O(1)"
   ]
  },
  {
   "cell_type": "code",
   "execution_count": null,
   "metadata": {},
   "outputs": [],
   "source": [
    "class Solution:\n",
    "    # Time: O(n)\n",
    "    # Space: O(1)\n",
    "    def maxArea(self, height: List[int]) -> int:\n",
    "        # i points to first item\n",
    "        # j points to last item\n",
    "        i, j, max_area = 0, len(height) - 1, 0\n",
    "        \n",
    "        # O(n)\n",
    "        while i < j:\n",
    "            area = (j-i) * min(height[i], height[j])\n",
    "            max_area = max(max_area, area)\n",
    "            \n",
    "            # Maximize the height by eliminating\n",
    "            # the shorted height among the two\n",
    "            if height[i] < height[j]:\n",
    "                i += 1\n",
    "            else:\n",
    "                j -= 1\n",
    "        return max_area"
   ]
  }
 ],
 "metadata": {
  "kernelspec": {
   "display_name": "Python 3",
   "language": "python",
   "name": "python3"
  },
  "language_info": {
   "codemirror_mode": {
    "name": "ipython",
    "version": 3
   },
   "file_extension": ".py",
   "mimetype": "text/x-python",
   "name": "python",
   "nbconvert_exporter": "python",
   "pygments_lexer": "ipython3",
   "version": "3.5.2"
  }
 },
 "nbformat": 4,
 "nbformat_minor": 2
}
