{
 "cells": [
  {
   "cell_type": "markdown",
   "metadata": {},
   "source": [
    "# Search in Rotated Sorted Array\n",
    "\n",
    "https://leetcode.com/problems/search-in-rotated-sorted-array/\n",
    "\n",
    "- Time: O(log n)\n",
    "- Space: O(1)"
   ]
  },
  {
   "cell_type": "code",
   "execution_count": null,
   "metadata": {},
   "outputs": [],
   "source": [
    "class Solution:\n",
    "    \n",
    "    # Time: O(log n)\n",
    "    # Space: O(1)\n",
    "    def search(self, nums: List[int], target: int) -> int:\n",
    "        \n",
    "        # Classic BST approach\n",
    "        low, high = 0, len(nums)-1\n",
    "        while low <= high:\n",
    "            mid = low + ((high - low) >> 1)\n",
    "            if nums[mid] == target:\n",
    "                return mid\n",
    "            elif nums[mid] < nums[high]: # right side is sorted\n",
    "                if target > nums[mid] and target <= nums[high]:\n",
    "                    low = mid + 1\n",
    "                else:\n",
    "                    high = mid - 1\n",
    "            else: # left side is sorted\n",
    "                if target < nums[mid] and target >= nums[low]:\n",
    "                    high = mid - 1\n",
    "                else:\n",
    "                    low = mid + 1\n",
    "            \n",
    "        return -1"
   ]
  }
 ],
 "metadata": {
  "kernelspec": {
   "display_name": "Python 3",
   "language": "python",
   "name": "python3"
  },
  "language_info": {
   "codemirror_mode": {
    "name": "ipython",
    "version": 3
   },
   "file_extension": ".py",
   "mimetype": "text/x-python",
   "name": "python",
   "nbconvert_exporter": "python",
   "pygments_lexer": "ipython3",
   "version": "3.5.2"
  }
 },
 "nbformat": 4,
 "nbformat_minor": 2
}
