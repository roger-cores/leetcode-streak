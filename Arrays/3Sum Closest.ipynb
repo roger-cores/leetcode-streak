{
 "cells": [
  {
   "cell_type": "markdown",
   "metadata": {},
   "source": [
    "# 3Sum Closest\n",
    "\n",
    "https://leetcode.com/problems/3sum-closest/\n",
    "\n",
    "- Time: O(n^2)\n",
    "- Space: O(1)"
   ]
  },
  {
   "cell_type": "code",
   "execution_count": null,
   "metadata": {},
   "outputs": [],
   "source": [
    "class Solution:\n",
    "    def threeSumClosest(self, nums: List[int], target: int) -> int:\n",
    "        \n",
    "        # start with any sum\n",
    "        # improve with each iteration\n",
    "        closest_sum = nums[0] + nums[1] + nums[2]\n",
    "        # minimize the distance\n",
    "        min_distance = abs(target - closest_sum)\n",
    "        \n",
    "        # O(n log n)\n",
    "        nums.sort()\n",
    "        \n",
    "        # O(n^2)\n",
    "        for i in range(0, len(nums)-2):\n",
    "            if i > 0 and nums[i-1] == nums[i]:\n",
    "                continue\n",
    "            left, right = i+1, len(nums)-1\n",
    "            \n",
    "            # Solve 2Sum closest with third number as nums[i]\n",
    "            while left < right:\n",
    "                current_sum = nums[i] + nums[left] + nums[right]\n",
    "                distance = current_sum - target\n",
    "                if min_distance > abs(distance):\n",
    "                    min_distance = abs(distance)\n",
    "                    closest_sum = current_sum\n",
    "                \n",
    "                if distance < 0:\n",
    "                    left += 1\n",
    "                elif distance > 0:\n",
    "                    right -= 1\n",
    "                else:\n",
    "                    return target\n",
    "            \n",
    "        return closest_sum"
   ]
  }
 ],
 "metadata": {
  "kernelspec": {
   "display_name": "Python 3",
   "language": "python",
   "name": "python3"
  },
  "language_info": {
   "codemirror_mode": {
    "name": "ipython",
    "version": 3
   },
   "file_extension": ".py",
   "mimetype": "text/x-python",
   "name": "python",
   "nbconvert_exporter": "python",
   "pygments_lexer": "ipython3",
   "version": "3.5.2"
  }
 },
 "nbformat": 4,
 "nbformat_minor": 2
}
