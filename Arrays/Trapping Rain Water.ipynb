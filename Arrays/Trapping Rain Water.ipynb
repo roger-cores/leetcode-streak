{
 "cells": [
  {
   "cell_type": "markdown",
   "metadata": {},
   "source": [
    "# Trapping Rain Water\n",
    "\n",
    "https://leetcode.com/problems/trapping-rain-water/\n",
    "\n",
    "- Time: O(n)\n",
    "- Space: O(n)"
   ]
  },
  {
   "cell_type": "code",
   "execution_count": null,
   "metadata": {},
   "outputs": [],
   "source": [
    "class Solution:\n",
    "    # Time: O(n)\n",
    "    # One pass over the data, each height will \n",
    "    # be appended and popped at most once\n",
    "    # Space: O(n) for the two stacks\n",
    "    def trap(self, height: List[int]) -> int:\n",
    "        count = 0\n",
    "        \n",
    "        # stacks to keep track of traps between walls\n",
    "        stack, rev_stack = [], []\n",
    "        start_height, end_height = 0, 0\n",
    "        \n",
    "        # For each height\n",
    "        for i in range(0, len(height)):\n",
    "            \n",
    "            # traverse from right to left\n",
    "            if height[0-i-1] <= end_height:\n",
    "                rev_stack.append(height[0-i-1])\n",
    "            else:\n",
    "                while rev_stack:\n",
    "                    count += end_height - rev_stack.pop()\n",
    "                end_height = height[0-i-1]\n",
    "            \n",
    "            # traverse from left to right\n",
    "            if height[i] < start_height:\n",
    "                stack.append(height[i])\n",
    "            else:\n",
    "                while stack:\n",
    "                    count += start_height - stack.pop()\n",
    "                start_height = height[i]\n",
    "        return count"
   ]
  }
 ],
 "metadata": {
  "kernelspec": {
   "display_name": "Python 3",
   "language": "python",
   "name": "python3"
  },
  "language_info": {
   "codemirror_mode": {
    "name": "ipython",
    "version": 3
   },
   "file_extension": ".py",
   "mimetype": "text/x-python",
   "name": "python",
   "nbconvert_exporter": "python",
   "pygments_lexer": "ipython3",
   "version": "3.5.2"
  }
 },
 "nbformat": 4,
 "nbformat_minor": 2
}
