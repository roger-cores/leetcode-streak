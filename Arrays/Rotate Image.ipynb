{
 "cells": [
  {
   "cell_type": "markdown",
   "metadata": {},
   "source": [
    "# Rotate Image\n",
    "\n",
    "https://leetcode.com/problems/rotate-image/\n",
    "\n",
    "- Time: O(n^2)\n",
    "- Space: O(1)"
   ]
  },
  {
   "cell_type": "code",
   "execution_count": null,
   "metadata": {},
   "outputs": [],
   "source": [
    "class Solution:\n",
    "    def rotate(self, matrix: List[List[int]]) -> None:\n",
    "        \n",
    "        def swap(matrix, i, j, k, l):\n",
    "            matrix[i][j], matrix[k][l] = matrix[k][l], matrix[i][j]\n",
    "        \n",
    "        n = len(matrix)\n",
    "        \n",
    "        i = 0\n",
    "        \n",
    "        # Runtime is O(n^2)\n",
    "        # Space is O(1)\n",
    "        \n",
    "        # For each concentric square\n",
    "        # There can be n/2 concentric circles\n",
    "        while i < n:\n",
    "            # For each element on the first row\n",
    "            # loop executes n-1, n-3, n-5 etc times\n",
    "            for j in range(n-1, i, -1):\n",
    "                swap(matrix, i, j, j, n-1)\n",
    "                swap(matrix, i, j, i+n-j-1, i)\n",
    "                swap(matrix, i+n-j-1, i, n-1, i+n-j-1)\n",
    "            i += 1\n",
    "            n -= 1"
   ]
  }
 ],
 "metadata": {
  "kernelspec": {
   "display_name": "Python 3",
   "language": "python",
   "name": "python3"
  },
  "language_info": {
   "codemirror_mode": {
    "name": "ipython",
    "version": 3
   },
   "file_extension": ".py",
   "mimetype": "text/x-python",
   "name": "python",
   "nbconvert_exporter": "python",
   "pygments_lexer": "ipython3",
   "version": "3.5.2"
  }
 },
 "nbformat": 4,
 "nbformat_minor": 2
}
