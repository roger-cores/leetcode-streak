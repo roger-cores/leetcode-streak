{
 "cells": [
  {
   "cell_type": "markdown",
   "metadata": {},
   "source": [
    "# Merge Intervals\n",
    "\n",
    "https://leetcode.com/problems/merge-intervals/\n",
    "\n",
    "- Time: O(n log n)\n",
    "- Space: O(n)"
   ]
  },
  {
   "cell_type": "code",
   "execution_count": null,
   "metadata": {},
   "outputs": [],
   "source": [
    "class Solution:\n",
    "    # Time: O(n log n)\n",
    "    # Space: O(n) for results\n",
    "    # In the worse case there will be no overlaps\n",
    "    # And each and every interval would have to be stored\n",
    "    def merge(self, intervals: List[List[int]]) -> List[List[int]]:\n",
    "        \n",
    "        # corner case\n",
    "        if len(intervals) <= 1:\n",
    "            return intervals\n",
    "        # O(n log n)\n",
    "        intervals.sort()\n",
    "        \n",
    "        results = []\n",
    "        results.append(intervals[0])\n",
    "        \n",
    "        # O(n)\n",
    "        for i in range(1, len(intervals)):\n",
    "            # if previous meeting ends on or after current start\n",
    "            if results[-1][1] >= intervals[i][0]:\n",
    "                # Extend the top of results stack\n",
    "                results[-1][1] = max(results[-1][1], intervals[i][1])\n",
    "            else: # previous has already ended. no overlap\n",
    "                results.append(intervals[i])\n",
    "                \n",
    "        return results"
   ]
  }
 ],
 "metadata": {
  "kernelspec": {
   "display_name": "Python 3",
   "language": "python",
   "name": "python3"
  },
  "language_info": {
   "codemirror_mode": {
    "name": "ipython",
    "version": 3
   },
   "file_extension": ".py",
   "mimetype": "text/x-python",
   "name": "python",
   "nbconvert_exporter": "python",
   "pygments_lexer": "ipython3",
   "version": "3.5.2"
  }
 },
 "nbformat": 4,
 "nbformat_minor": 2
}
